{
 "cells": [
  {
   "cell_type": "code",
   "execution_count": 1,
   "metadata": {
    "scrolled": true
   },
   "outputs": [
    {
     "name": "stdout",
     "output_type": "stream",
     "text": [
      "2.1.0\n"
     ]
    }
   ],
   "source": [
    "import matplotlib.pyplot as plt\n",
    "import pandas as pd\n",
    "import seaborn as sns\n",
    "\n",
    "from tensorflow import keras\n",
    "from tensorflow.keras import layers\n",
    "\n",
    "import tensorflow as tf\n",
    "import tensorflow_docs.plots\n",
    "import tensorflow_docs.modeling\n",
    "import tensorflow_docs as tfdocs\n",
    "\n",
    "print(tf.__version__)"
   ]
  },
  {
   "cell_type": "markdown",
   "metadata": {},
   "source": [
    "## Grab and parse the data"
   ]
  },
  {
   "cell_type": "code",
   "execution_count": 2,
   "metadata": {},
   "outputs": [],
   "source": [
    "raw_dataset = pd.read_csv(\"4.29.20_corona_data.csv\", sep=\",\", skipinitialspace=True)\n",
    "raw_dataset = raw_dataset[[\"Total Count Confirmed\", \"Total Count Deaths\"]]\n",
    "dataset = raw_dataset.copy()"
   ]
  },
  {
   "cell_type": "code",
   "execution_count": 3,
   "metadata": {},
   "outputs": [
    {
     "data": {
      "text/plain": [
       "Total Count Confirmed    0\n",
       "Total Count Deaths       0\n",
       "dtype: int64"
      ]
     },
     "execution_count": 3,
     "metadata": {},
     "output_type": "execute_result"
    }
   ],
   "source": [
    "dataset.isna().sum()"
   ]
  },
  {
   "cell_type": "code",
   "execution_count": 4,
   "metadata": {},
   "outputs": [
    {
     "data": {
      "text/html": [
       "<div>\n",
       "<style scoped>\n",
       "    .dataframe tbody tr th:only-of-type {\n",
       "        vertical-align: middle;\n",
       "    }\n",
       "\n",
       "    .dataframe tbody tr th {\n",
       "        vertical-align: top;\n",
       "    }\n",
       "\n",
       "    .dataframe thead th {\n",
       "        text-align: right;\n",
       "    }\n",
       "</style>\n",
       "<table border=\"1\" class=\"dataframe\">\n",
       "  <thead>\n",
       "    <tr style=\"text-align: right;\">\n",
       "      <th></th>\n",
       "      <th>Total Count Confirmed</th>\n",
       "      <th>Total Count Deaths</th>\n",
       "    </tr>\n",
       "  </thead>\n",
       "  <tbody>\n",
       "    <tr>\n",
       "      <th>0</th>\n",
       "      <td>0</td>\n",
       "      <td>0</td>\n",
       "    </tr>\n",
       "    <tr>\n",
       "      <th>1</th>\n",
       "      <td>0</td>\n",
       "      <td>0</td>\n",
       "    </tr>\n",
       "    <tr>\n",
       "      <th>2</th>\n",
       "      <td>0</td>\n",
       "      <td>0</td>\n",
       "    </tr>\n",
       "    <tr>\n",
       "      <th>3</th>\n",
       "      <td>0</td>\n",
       "      <td>0</td>\n",
       "    </tr>\n",
       "    <tr>\n",
       "      <th>4</th>\n",
       "      <td>2</td>\n",
       "      <td>0</td>\n",
       "    </tr>\n",
       "  </tbody>\n",
       "</table>\n",
       "</div>"
      ],
      "text/plain": [
       "   Total Count Confirmed  Total Count Deaths\n",
       "0                      0                   0\n",
       "1                      0                   0\n",
       "2                      0                   0\n",
       "3                      0                   0\n",
       "4                      2                   0"
      ]
     },
     "execution_count": 4,
     "metadata": {},
     "output_type": "execute_result"
    }
   ],
   "source": [
    "dataset = dataset.dropna()\n",
    "dataset.head()"
   ]
  },
  {
   "cell_type": "code",
   "execution_count": 5,
   "metadata": {},
   "outputs": [
    {
     "data": {
      "text/html": [
       "<div>\n",
       "<style scoped>\n",
       "    .dataframe tbody tr th:only-of-type {\n",
       "        vertical-align: middle;\n",
       "    }\n",
       "\n",
       "    .dataframe tbody tr th {\n",
       "        vertical-align: top;\n",
       "    }\n",
       "\n",
       "    .dataframe thead th {\n",
       "        text-align: right;\n",
       "    }\n",
       "</style>\n",
       "<table border=\"1\" class=\"dataframe\">\n",
       "  <thead>\n",
       "    <tr style=\"text-align: right;\">\n",
       "      <th></th>\n",
       "      <th>Total Count Confirmed</th>\n",
       "      <th>Total Count Deaths</th>\n",
       "    </tr>\n",
       "  </thead>\n",
       "  <tbody>\n",
       "    <tr>\n",
       "      <th>94</th>\n",
       "      <td>42164</td>\n",
       "      <td>1710</td>\n",
       "    </tr>\n",
       "    <tr>\n",
       "      <th>95</th>\n",
       "      <td>43464</td>\n",
       "      <td>1755</td>\n",
       "    </tr>\n",
       "    <tr>\n",
       "      <th>96</th>\n",
       "      <td>45031</td>\n",
       "      <td>1809</td>\n",
       "    </tr>\n",
       "    <tr>\n",
       "      <th>97</th>\n",
       "      <td>46500</td>\n",
       "      <td>1887</td>\n",
       "    </tr>\n",
       "    <tr>\n",
       "      <th>98</th>\n",
       "      <td>48917</td>\n",
       "      <td>1982</td>\n",
       "    </tr>\n",
       "  </tbody>\n",
       "</table>\n",
       "</div>"
      ],
      "text/plain": [
       "    Total Count Confirmed  Total Count Deaths\n",
       "94                  42164                1710\n",
       "95                  43464                1755\n",
       "96                  45031                1809\n",
       "97                  46500                1887\n",
       "98                  48917                1982"
      ]
     },
     "execution_count": 5,
     "metadata": {},
     "output_type": "execute_result"
    }
   ],
   "source": [
    "dataset.tail()"
   ]
  },
  {
   "cell_type": "markdown",
   "metadata": {},
   "source": [
    "## Split the data into training set and testing set\n",
    "We are only taking about 80% of the data into the training dataset, because if we use the complete set, the computer will recognize the pattern and the training dataset will be exactly the same as the testing dataset"
   ]
  },
  {
   "cell_type": "code",
   "execution_count": 6,
   "metadata": {},
   "outputs": [],
   "source": [
    "train_dataset = dataset.sample(frac=0.8,random_state=0)\n",
    "test_dataset = dataset.drop(train_dataset.index)"
   ]
  },
  {
   "cell_type": "markdown",
   "metadata": {},
   "source": [
    "## Inspecting the elements and their statistics"
   ]
  },
  {
   "cell_type": "code",
   "execution_count": 7,
   "metadata": {},
   "outputs": [
    {
     "data": {
      "text/plain": [
       "<seaborn.axisgrid.PairGrid at 0x13c71e55848>"
      ]
     },
     "execution_count": 7,
     "metadata": {},
     "output_type": "execute_result"
    },
    {
     "data": {
      "image/png": "[encoded data removed]",
      "text/plain": [
       "<Figure size 360x360 with 6 Axes>"
      ]
     },
     "metadata": {
      "needs_background": "light"
     },
     "output_type": "display_data"
    }
   ],
   "source": [
    "sns.pairplot(train_dataset[[\"Total Count Confirmed\", \"Total Count Deaths\"]], diag_kind=\"kde\")"
   ]
  },
  {
   "cell_type": "code",
   "execution_count": 8,
   "metadata": {},
   "outputs": [
    {
     "data": {
      "text/html": [
       "<div>\n",
       "<style scoped>\n",
       "    .dataframe tbody tr th:only-of-type {\n",
       "        vertical-align: middle;\n",
       "    }\n",
       "\n",
       "    .dataframe tbody tr th {\n",
       "        vertical-align: top;\n",
       "    }\n",
       "\n",
       "    .dataframe thead th {\n",
       "        text-align: right;\n",
       "    }\n",
       "</style>\n",
       "<table border=\"1\" class=\"dataframe\">\n",
       "  <thead>\n",
       "    <tr style=\"text-align: right;\">\n",
       "      <th></th>\n",
       "      <th>count</th>\n",
       "      <th>mean</th>\n",
       "      <th>std</th>\n",
       "      <th>min</th>\n",
       "      <th>25%</th>\n",
       "      <th>50%</th>\n",
       "      <th>75%</th>\n",
       "      <th>max</th>\n",
       "    </tr>\n",
       "  </thead>\n",
       "  <tbody>\n",
       "    <tr>\n",
       "      <th>Total Count Deaths</th>\n",
       "      <td>79.0</td>\n",
       "      <td>303.265823</td>\n",
       "      <td>552.406082</td>\n",
       "      <td>0.0</td>\n",
       "      <td>0.0</td>\n",
       "      <td>3.0</td>\n",
       "      <td>318.5</td>\n",
       "      <td>1982.0</td>\n",
       "    </tr>\n",
       "  </tbody>\n",
       "</table>\n",
       "</div>"
      ],
      "text/plain": [
       "                    count        mean         std  min  25%  50%    75%  \\\n",
       "Total Count Deaths   79.0  303.265823  552.406082  0.0  0.0  3.0  318.5   \n",
       "\n",
       "                       max  \n",
       "Total Count Deaths  1982.0  "
      ]
     },
     "execution_count": 8,
     "metadata": {},
     "output_type": "execute_result"
    }
   ],
   "source": [
    "train_stats = train_dataset.describe()\n",
    "train_stats.pop(\"Total Count Confirmed\")\n",
    "train_stats = train_stats.transpose()\n",
    "train_stats"
   ]
  },
  {
   "cell_type": "code",
   "execution_count": 9,
   "metadata": {},
   "outputs": [],
   "source": [
    "train_labels = train_dataset.pop('Total Count Confirmed') # Will train this 'y'\n",
    "test_labels = test_dataset.pop('Total Count Confirmed') # Our test 'y' we will use to compare with"
   ]
  },
  {
   "cell_type": "markdown",
   "metadata": {},
   "source": [
    "## Normalize the data "
   ]
  },
  {
   "cell_type": "code",
   "execution_count": 10,
   "metadata": {},
   "outputs": [],
   "source": [
    "def norm(x):\n",
    "  return (x - train_stats['mean']) / train_stats['std']\n",
    "normed_train_data = norm(train_dataset)\n",
    "normed_test_data = norm(test_dataset)"
   ]
  },
  {
   "cell_type": "markdown",
   "metadata": {},
   "source": [
    "## Building the model\n",
    "Building a Sequential model with two dense connectred hidden layers, and an output layer that holds a single, continous value. Created the build_moel function because we'll create a second model later on for optimization\n"
   ]
  },
  {
   "cell_type": "code",
   "execution_count": 11,
   "metadata": {},
   "outputs": [],
   "source": [
    "def build_model():\n",
    "  model = keras.Sequential([\n",
    "    layers.Dense(64, activation='relu', input_shape=[len(train_dataset.keys())]),\n",
    "    layers.Dense(64, activation='relu'),\n",
    "    layers.Dense(1)\n",
    "  ])\n",
    "\n",
    "  optimizer = tf.keras.optimizers.RMSprop(0.001)\n",
    "\n",
    "  model.compile(loss='mse',\n",
    "                optimizer=optimizer,\n",
    "                metrics=['mae', 'mse'])\n",
    "  return model"
   ]
  },
  {
   "cell_type": "code",
   "execution_count": 12,
   "metadata": {},
   "outputs": [
    {
     "name": "stdout",
     "output_type": "stream",
     "text": [
      "Model: \"sequential\"\n",
      "_________________________________________________________________\n",
      "Layer (type)                 Output Shape              Param #   \n",
      "=================================================================\n",
      "dense (Dense)                (None, 64)                128       \n",
      "_________________________________________________________________\n",
      "dense_1 (Dense)              (None, 64)                4160      \n",
      "_________________________________________________________________\n",
      "dense_2 (Dense)              (None, 1)                 65        \n",
      "=================================================================\n",
      "Total params: 4,353\n",
      "Trainable params: 4,353\n",
      "Non-trainable params: 0\n",
      "_________________________________________________________________\n"
     ]
    }
   ],
   "source": [
    "model = build_model()\n",
    "model.summary()"
   ]
  },
  {
   "cell_type": "markdown",
   "metadata": {},
   "source": [
    "## Training the model for 2000 epochs, and record the training and validation accuracies in the history object"
   ]
  },
  {
   "cell_type": "code",
   "execution_count": 13,
   "metadata": {},
   "outputs": [
    {
     "name": "stdout",
     "output_type": "stream",
     "text": [
      "\n",
      "Epoch: 0, loss:204808932.0635,  mae:6815.1987,  mse:204808944.0000,  val_loss:558861952.0000,  val_mae:16241.4082,  val_mse:558861952.0000,  \n",
      "....................................................................................................\n",
      "Epoch: 100, loss:203796184.3810,  mae:6800.3359,  mse:203796192.0000,  val_loss:556113664.0000,  val_mae:16202.9629,  val_mse:556113664.0000,  \n",
      "....................................................................................................\n",
      "Epoch: 200, loss:199146651.1746,  mae:6757.2974,  mse:199146640.0000,  val_loss:543523712.0000,  val_mae:16035.2363,  val_mse:543523712.0000,  \n",
      "....................................................................................................\n",
      "Epoch: 300, loss:187676201.0159,  mae:6657.9590,  mse:187676208.0000,  val_loss:512103936.0000,  val_mae:15633.1094,  val_mse:512103936.0000,  \n",
      "....................................................................................................\n",
      "Epoch: 400, loss:167290209.3968,  mae:6500.7290,  mse:167290208.0000,  val_loss:455614016.0000,  val_mae:14871.0176,  val_mse:455614016.0000,  \n",
      "....................................................................................................\n",
      "Epoch: 500, loss:138363203.9365,  mae:6284.6714,  mse:138363200.0000,  val_loss:374425920.0000,  val_mae:13736.1504,  val_mse:374425920.0000,  \n",
      "....................................................................................................\n",
      "Epoch: 600, loss:102817607.6190,  mae:6010.9121,  mse:102817616.0000,  val_loss:272551040.0000,  val_mae:12119.7354,  val_mse:272551040.0000,  \n",
      "....................................................................................................\n",
      "Epoch: 700, loss:66264868.8254,  mae:5685.1426,  mse:66264868.0000,  val_loss:164312064.0000,  val_mae:9957.6543,  val_mse:164312064.0000,  \n",
      "....................................................................................................\n",
      "Epoch: 800, loss:35256399.4921,  mae:4972.2788,  mse:35256400.0000,  val_loss:72044864.0000,  val_mae:7192.3145,  val_mse:72044864.0000,  \n",
      "....................................................................................................\n",
      "Epoch: 900, loss:12742837.3175,  mae:3321.6799,  mse:12742837.0000,  val_loss:17608132.0000,  val_mae:3953.3486,  val_mse:17608132.0000,  \n",
      "....................................................................................................\n",
      "Epoch: 1000, loss:4174041.9643,  mae:1648.0601,  mse:4174042.0000,  val_loss:5144589.0000,  val_mae:1989.2493,  val_mse:5144589.0000,  \n",
      "....................................................................................................\n",
      "Epoch: 1100, loss:3955159.0635,  mae:1400.0223,  mse:3955159.0000,  val_loss:5538412.0000,  val_mae:1918.3291,  val_mse:5538412.0000,  \n",
      "....................................................................................................\n",
      "Epoch: 1200, loss:3951760.6746,  mae:1389.8134,  mse:3951760.7500,  val_loss:5552435.5000,  val_mae:1914.8917,  val_mse:5552435.5000,  \n",
      "....................................................................................................\n",
      "Epoch: 1300, loss:3958100.9365,  mae:1394.9753,  mse:3958100.7500,  val_loss:5528725.0000,  val_mae:1911.2399,  val_mse:5528725.0000,  \n",
      "....................................................................................................\n",
      "Epoch: 1400, loss:3937645.3929,  mae:1391.7322,  mse:3937645.2500,  val_loss:5524805.5000,  val_mae:1911.0864,  val_mse:5524805.5000,  \n",
      "....................................................................................................\n",
      "Epoch: 1500, loss:3924404.5714,  mae:1386.1158,  mse:3924404.5000,  val_loss:5503297.0000,  val_mae:1908.5009,  val_mse:5503297.0000,  \n",
      "....................................................................................................\n",
      "Epoch: 1600, loss:3911894.6310,  mae:1390.1945,  mse:3911894.5000,  val_loss:5475853.0000,  val_mae:1904.5601,  val_mse:5475853.0000,  \n",
      "....................................................................................................\n",
      "Epoch: 1700, loss:3891203.0873,  mae:1384.8589,  mse:3891203.0000,  val_loss:5431668.5000,  val_mae:1901.2651,  val_mse:5431668.5000,  \n",
      "....................................................................................................\n",
      "Epoch: 1800, loss:3866014.5833,  mae:1389.5007,  mse:3866014.5000,  val_loss:5400605.5000,  val_mae:1897.8842,  val_mse:5400605.5000,  \n",
      "....................................................................................................\n",
      "Epoch: 1900, loss:3842740.7738,  mae:1388.3846,  mse:3842740.7500,  val_loss:5337052.0000,  val_mae:1891.1256,  val_mse:5337052.0000,  \n",
      "...................................................................................................."
     ]
    }
   ],
   "source": [
    "EPOCHS = 2000\n",
    "history = model.fit(\n",
    "  normed_train_data, train_labels,\n",
    "  epochs=EPOCHS, validation_split = 0.2, verbose=0,\n",
    "  callbacks=[tfdocs.modeling.EpochDots()])\n",
    "\n"
   ]
  },
  {
   "cell_type": "code",
   "execution_count": 24,
   "metadata": {},
   "outputs": [
    {
     "data": {
      "text/plain": [
       "Text(0, 0.5, 'MAE [Total Count Confirmed]')"
      ]
     },
     "execution_count": 24,
     "metadata": {},
     "output_type": "execute_result"
    },
    {
     "data": {
      "image/png": "[encoded data removed]",
      "text/plain": [
       "<Figure size 432x288 with 1 Axes>"
      ]
     },
     "metadata": {
      "needs_background": "light"
     },
     "output_type": "display_data"
    }
   ],
   "source": [
    "plotter = tfdocs.plots.HistoryPlotter(smoothing_std=2)\n",
    "\n",
    "plotter.plot({'Basic': history}, metric = \"mae\")\n",
    "plt.ylim([0, 10000])\n",
    "plt.ylabel('MAE [Total Count Confirmed]')"
   ]
  },
  {
   "cell_type": "code",
   "execution_count": 37,
   "metadata": {
    "scrolled": true
   },
   "outputs": [
    {
     "data": {
      "text/plain": [
       "Text(0, 0.5, 'MAE [Total Count Confirmed]')"
      ]
     },
     "execution_count": 37,
     "metadata": {},
     "output_type": "execute_result"
    },
    {
     "data": {
      "image/png": "[encoded data removed]",
      "text/plain": [
       "<Figure size 432x288 with 1 Axes>"
      ]
     },
     "metadata": {
      "needs_background": "light"
     },
     "output_type": "display_data"
    }
   ],
   "source": [
    "plotter.plot({'Basic': history}, metric = \"mse\")\n",
    "plt.ylim([0, 50000000])\n",
    "plt.ylabel('MAE [Total Count Confirmed]')"
   ]
  },
  {
   "cell_type": "markdown",
   "metadata": {},
   "source": [
    "## We can retrain the model to automatically stop training when the validation scores do not improve."
   ]
  },
  {
   "cell_type": "code",
   "execution_count": 38,
   "metadata": {},
   "outputs": [
    {
     "name": "stdout",
     "output_type": "stream",
     "text": [
      "\n",
      "Epoch: 0, loss:204814231.8730,  mae:6815.2231,  mse:204814240.0000,  val_loss:558876672.0000,  val_mae:16241.5664,  val_mse:558876672.0000,  \n",
      "....................................................................................................\n",
      "Epoch: 100, loss:203935048.3810,  mae:6799.9404,  mse:203935040.0000,  val_loss:556455296.0000,  val_mae:16206.2354,  val_mse:556455296.0000,  \n",
      "....................................................................................................\n",
      "Epoch: 200, loss:200076896.5079,  mae:6756.9346,  mse:200076896.0000,  val_loss:545913664.0000,  val_mae:16064.3242,  val_mse:545913664.0000,  \n",
      "....................................................................................................\n",
      "Epoch: 300, loss:190858160.7619,  mae:6660.3809,  mse:190858160.0000,  val_loss:520558912.0000,  val_mae:15728.5537,  val_mse:520558912.0000,  \n",
      "....................................................................................................\n",
      "Epoch: 400, loss:174866761.9048,  mae:6510.9629,  mse:174866752.0000,  val_loss:476319008.0000,  val_mae:15135.3184,  val_mse:476319008.0000,  \n",
      "....................................................................................................\n",
      "Epoch: 500, loss:151285069.2063,  mae:6309.5391,  mse:151285072.0000,  val_loss:410623872.0000,  val_mae:14200.1348,  val_mse:410623872.0000,  \n",
      "....................................................................................................\n",
      "Epoch: 600, loss:120995727.1111,  mae:6039.4712,  mse:120995728.0000,  val_loss:325167552.0000,  val_mae:12925.9219,  val_mse:325167552.0000,  \n",
      "....................................................................................................\n",
      "Epoch: 700, loss:86838319.4921,  mae:5723.8159,  mse:86838320.0000,  val_loss:226965216.0000,  val_mae:11208.0840,  val_mse:226965216.0000,  \n",
      "....................................................................................................\n",
      "Epoch: 800, loss:53714201.7778,  mae:5332.0039,  mse:53714204.0000,  val_loss:128794320.0000,  val_mae:8988.3730,  val_mse:128794320.0000,  \n",
      "....................................................................................................\n",
      "Epoch: 900, loss:27657978.5397,  mae:4508.1265,  mse:27657980.0000,  val_loss:53402072.0000,  val_mae:6326.2246,  val_mse:53402072.0000,  \n",
      "....................................................................................................\n",
      "Epoch: 1000, loss:9499256.8254,  mae:2877.5784,  mse:9499257.0000,  val_loss:11489334.0000,  val_mae:3228.8284,  val_mse:11489334.0000,  \n",
      "......................................................................"
     ]
    }
   ],
   "source": [
    "model = build_model()\n",
    "# The patience parameter is the amount of epochs to check for improvement\n",
    "early_stop = keras.callbacks.EarlyStopping(monitor='val_loss', patience=10)\n",
    "early_history = model.fit(normed_train_data, train_labels,\n",
    "                    epochs=EPOCHS, validation_split = 0.2, verbose=0,\n",
    "                    callbacks=[early_stop, tfdocs.modeling.EpochDots()])"
   ]
  },
  {
   "cell_type": "code",
   "execution_count": 44,
   "metadata": {
    "scrolled": true
   },
   "outputs": [
    {
     "data": {
      "text/plain": [
       "Text(0, 0.5, 'MAE [Total Count Confirmed]')"
      ]
     },
     "execution_count": 44,
     "metadata": {},
     "output_type": "execute_result"
    },
    {
     "data": {
      "image/png": "[encoded data removed]",
      "text/plain": [
       "<Figure size 432x288 with 1 Axes>"
      ]
     },
     "metadata": {
      "needs_background": "light"
     },
     "output_type": "display_data"
    }
   ],
   "source": [
    "plotter.plot({'Early Stopping': early_history}, metric = \"mae\")\n",
    "plt.ylim([0, 50000])\n",
    "plt.ylabel('MAE [Total Count Confirmed]')"
   ]
  },
  {
   "cell_type": "markdown",
   "metadata": {},
   "source": [
    "## This tells how much we can expect the model to predict when we use it in the real worldd. This model generalizes by using the test set, which we didn't use when training the model"
   ]
  },
  {
   "cell_type": "code",
   "execution_count": 40,
   "metadata": {},
   "outputs": [
    {
     "name": "stdout",
     "output_type": "stream",
     "text": [
      "20/20 - 0s - loss: 4741003.0000 - mae: 1815.5612 - mse: 4741003.0000\n",
      "Testing set Mean Abs Error: 1815.56 Total Count Confirmed\n"
     ]
    }
   ],
   "source": [
    "loss, mae, mse = model.evaluate(normed_test_data, test_labels, verbose=2)\n",
    "print(\"Testing set Mean Abs Error: {:5.2f} Total Count Confirmed\".format(mae))"
   ]
  },
  {
   "cell_type": "markdown",
   "metadata": {},
   "source": [
    "## Making the predictions using the data in the testing set"
   ]
  },
  {
   "cell_type": "code",
   "execution_count": 41,
   "metadata": {},
   "outputs": [
    {
     "data": {
      "image/png": "[encoded data removed]",
      "text/plain": [
       "<Figure size 432x288 with 1 Axes>"
      ]
     },
     "metadata": {
      "needs_background": "light"
     },
     "output_type": "display_data"
    }
   ],
   "source": [
    "test_predictions = model.predict(normed_test_data).flatten()\n",
    "a = plt.axes(aspect='equal')\n",
    "plt.scatter(test_labels, test_predictions)\n",
    "plt.xlabel('True Values [Total Count Confirmed]')\n",
    "plt.ylabel('Predictions [Total Count Confirmed]')\n",
    "lims = [0, 25000]\n",
    "plt.xlim(lims)\n",
    "plt.ylim(lims)\n",
    "_ = plt.plot(lims, lims)"
   ]
  },
  {
   "cell_type": "code",
   "execution_count": null,
   "metadata": {},
   "outputs": [],
   "source": []
  }
 ],
 "metadata": {
  "kernelspec": {
   "display_name": "gputest",
   "language": "python",
   "name": "gputest"
  },
  "language_info": {
   "codemirror_mode": {
    "name": "ipython",
    "version": 3
   },
   "file_extension": ".py",
   "mimetype": "text/x-python",
   "name": "python",
   "nbconvert_exporter": "python",
   "pygments_lexer": "ipython3",
   "version": "3.7.7"
  }
 },
 "nbformat": 4,
 "nbformat_minor": 4
}
