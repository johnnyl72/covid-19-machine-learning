{
 "cells": [
  {
   "cell_type": "code",
   "execution_count": 1,
   "metadata": {
    "scrolled": true
   },
   "outputs": [
    {
     "name": "stdout",
     "output_type": "stream",
     "text": [
      "2.1.0\n"
     ]
    }
   ],
   "source": [
    "import matplotlib.pyplot as plt\n",
    "import pandas as pd\n",
    "import seaborn as sns\n",
    "\n",
    "from tensorflow import keras\n",
    "from tensorflow.keras import layers\n",
    "\n",
    "import tensorflow as tf\n",
    "import tensorflow_docs.plots\n",
    "import tensorflow_docs.modeling\n",
    "import tensorflow_docs as tfdocs\n",
    "\n",
    "print(tf.__version__)"
   ]
  },
  {
   "cell_type": "markdown",
   "metadata": {},
   "source": [
    "## Grab and parse the data"
   ]
  },
  {
   "cell_type": "code",
   "execution_count": 2,
   "metadata": {},
   "outputs": [],
   "source": [
    "raw_dataset = pd.read_csv(\"4.14.20_corona_data.csv\", sep=\",\", skipinitialspace=True)\n",
    "raw_dataset = raw_dataset[[\"Total Count Confirmed\", \"Total Count Deaths\"]]\n",
    "dataset = raw_dataset.copy()"
   ]
  },
  {
   "cell_type": "code",
   "execution_count": 3,
   "metadata": {},
   "outputs": [
    {
     "data": {
      "text/plain": [
       "Total Count Confirmed    0\n",
       "Total Count Deaths       0\n",
       "dtype: int64"
      ]
     },
     "execution_count": 3,
     "metadata": {},
     "output_type": "execute_result"
    }
   ],
   "source": [
    "dataset.isna().sum()"
   ]
  },
  {
   "cell_type": "code",
   "execution_count": 4,
   "metadata": {},
   "outputs": [
    {
     "data": {
      "text/html": [
       "<div>\n",
       "<style scoped>\n",
       "    .dataframe tbody tr th:only-of-type {\n",
       "        vertical-align: middle;\n",
       "    }\n",
       "\n",
       "    .dataframe tbody tr th {\n",
       "        vertical-align: top;\n",
       "    }\n",
       "\n",
       "    .dataframe thead th {\n",
       "        text-align: right;\n",
       "    }\n",
       "</style>\n",
       "<table border=\"1\" class=\"dataframe\">\n",
       "  <thead>\n",
       "    <tr style=\"text-align: right;\">\n",
       "      <th></th>\n",
       "      <th>Total Count Confirmed</th>\n",
       "      <th>Total Count Deaths</th>\n",
       "    </tr>\n",
       "  </thead>\n",
       "  <tbody>\n",
       "    <tr>\n",
       "      <th>0</th>\n",
       "      <td>0</td>\n",
       "      <td>0</td>\n",
       "    </tr>\n",
       "    <tr>\n",
       "      <th>1</th>\n",
       "      <td>0</td>\n",
       "      <td>0</td>\n",
       "    </tr>\n",
       "    <tr>\n",
       "      <th>2</th>\n",
       "      <td>0</td>\n",
       "      <td>0</td>\n",
       "    </tr>\n",
       "    <tr>\n",
       "      <th>3</th>\n",
       "      <td>0</td>\n",
       "      <td>0</td>\n",
       "    </tr>\n",
       "    <tr>\n",
       "      <th>4</th>\n",
       "      <td>2</td>\n",
       "      <td>0</td>\n",
       "    </tr>\n",
       "  </tbody>\n",
       "</table>\n",
       "</div>"
      ],
      "text/plain": [
       "   Total Count Confirmed  Total Count Deaths\n",
       "0                      0                   0\n",
       "1                      0                   0\n",
       "2                      0                   0\n",
       "3                      0                   0\n",
       "4                      2                   0"
      ]
     },
     "execution_count": 4,
     "metadata": {},
     "output_type": "execute_result"
    }
   ],
   "source": [
    "dataset = dataset.dropna()\n",
    "dataset.head()"
   ]
  },
  {
   "cell_type": "code",
   "execution_count": 5,
   "metadata": {},
   "outputs": [
    {
     "data": {
      "text/html": [
       "<div>\n",
       "<style scoped>\n",
       "    .dataframe tbody tr th:only-of-type {\n",
       "        vertical-align: middle;\n",
       "    }\n",
       "\n",
       "    .dataframe tbody tr th {\n",
       "        vertical-align: top;\n",
       "    }\n",
       "\n",
       "    .dataframe thead th {\n",
       "        text-align: right;\n",
       "    }\n",
       "</style>\n",
       "<table border=\"1\" class=\"dataframe\">\n",
       "  <thead>\n",
       "    <tr style=\"text-align: right;\">\n",
       "      <th></th>\n",
       "      <th>Total Count Confirmed</th>\n",
       "      <th>Total Count Deaths</th>\n",
       "    </tr>\n",
       "  </thead>\n",
       "  <tbody>\n",
       "    <tr>\n",
       "      <th>79</th>\n",
       "      <td>21077</td>\n",
       "      <td>583</td>\n",
       "    </tr>\n",
       "    <tr>\n",
       "      <th>80</th>\n",
       "      <td>21702</td>\n",
       "      <td>605</td>\n",
       "    </tr>\n",
       "    <tr>\n",
       "      <th>81</th>\n",
       "      <td>22787</td>\n",
       "      <td>641</td>\n",
       "    </tr>\n",
       "    <tr>\n",
       "      <th>82</th>\n",
       "      <td>23931</td>\n",
       "      <td>715</td>\n",
       "    </tr>\n",
       "    <tr>\n",
       "      <th>83</th>\n",
       "      <td>24424</td>\n",
       "      <td>821</td>\n",
       "    </tr>\n",
       "  </tbody>\n",
       "</table>\n",
       "</div>"
      ],
      "text/plain": [
       "    Total Count Confirmed  Total Count Deaths\n",
       "79                  21077                 583\n",
       "80                  21702                 605\n",
       "81                  22787                 641\n",
       "82                  23931                 715\n",
       "83                  24424                 821"
      ]
     },
     "execution_count": 5,
     "metadata": {},
     "output_type": "execute_result"
    }
   ],
   "source": [
    "dataset.tail()"
   ]
  },
  {
   "cell_type": "markdown",
   "metadata": {},
   "source": [
    "## Split the data into training set and testing set\n",
    "We are only taking about 80% of the data into the training dataset, because if we use the complete set, the computer will recognize the pattern and the training dataset will be exactly the same as the testing dataset"
   ]
  },
  {
   "cell_type": "code",
   "execution_count": 6,
   "metadata": {},
   "outputs": [],
   "source": [
    "train_dataset = dataset.sample(frac=0.8,random_state=0)\n",
    "test_dataset = dataset.drop(train_dataset.index)"
   ]
  },
  {
   "cell_type": "markdown",
   "metadata": {},
   "source": [
    "## Inspecting the elements and their statistics"
   ]
  },
  {
   "cell_type": "code",
   "execution_count": 7,
   "metadata": {},
   "outputs": [
    {
     "data": {
      "text/plain": [
       "<seaborn.axisgrid.PairGrid at 0x1bc59d76a48>"
      ]
     },
     "execution_count": 7,
     "metadata": {},
     "output_type": "execute_result"
    },
    {
     "data": {
      "image/png": "[encoded data removed]",
      "text/plain": [
       "<Figure size 360x360 with 6 Axes>"
      ]
     },
     "metadata": {
      "needs_background": "light"
     },
     "output_type": "display_data"
    }
   ],
   "source": [
    "sns.pairplot(train_dataset[[\"Total Count Confirmed\", \"Total Count Deaths\"]], diag_kind=\"kde\")"
   ]
  },
  {
   "cell_type": "code",
   "execution_count": 8,
   "metadata": {},
   "outputs": [
    {
     "data": {
      "text/html": [
       "<div>\n",
       "<style scoped>\n",
       "    .dataframe tbody tr th:only-of-type {\n",
       "        vertical-align: middle;\n",
       "    }\n",
       "\n",
       "    .dataframe tbody tr th {\n",
       "        vertical-align: top;\n",
       "    }\n",
       "\n",
       "    .dataframe thead th {\n",
       "        text-align: right;\n",
       "    }\n",
       "</style>\n",
       "<table border=\"1\" class=\"dataframe\">\n",
       "  <thead>\n",
       "    <tr style=\"text-align: right;\">\n",
       "      <th></th>\n",
       "      <th>count</th>\n",
       "      <th>mean</th>\n",
       "      <th>std</th>\n",
       "      <th>min</th>\n",
       "      <th>25%</th>\n",
       "      <th>50%</th>\n",
       "      <th>75%</th>\n",
       "      <th>max</th>\n",
       "    </tr>\n",
       "  </thead>\n",
       "  <tbody>\n",
       "    <tr>\n",
       "      <th>Total Count Deaths</th>\n",
       "      <td>67.0</td>\n",
       "      <td>88.343284</td>\n",
       "      <td>190.359353</td>\n",
       "      <td>0.0</td>\n",
       "      <td>0.0</td>\n",
       "      <td>0.0</td>\n",
       "      <td>34.5</td>\n",
       "      <td>821.0</td>\n",
       "    </tr>\n",
       "  </tbody>\n",
       "</table>\n",
       "</div>"
      ],
      "text/plain": [
       "                    count       mean         std  min  25%  50%   75%    max\n",
       "Total Count Deaths   67.0  88.343284  190.359353  0.0  0.0  0.0  34.5  821.0"
      ]
     },
     "execution_count": 8,
     "metadata": {},
     "output_type": "execute_result"
    }
   ],
   "source": [
    "train_stats = train_dataset.describe()\n",
    "train_stats.pop(\"Total Count Confirmed\")\n",
    "train_stats = train_stats.transpose()\n",
    "train_stats"
   ]
  },
  {
   "cell_type": "code",
   "execution_count": 9,
   "metadata": {},
   "outputs": [],
   "source": [
    "train_labels = train_dataset.pop('Total Count Confirmed') # Will train this 'y'\n",
    "test_labels = test_dataset.pop('Total Count Confirmed') # Our test 'y' we will use to compare with"
   ]
  },
  {
   "cell_type": "markdown",
   "metadata": {},
   "source": [
    "## Normalize the data "
   ]
  },
  {
   "cell_type": "code",
   "execution_count": 10,
   "metadata": {},
   "outputs": [],
   "source": [
    "def norm(x):\n",
    "  return (x - train_stats['mean']) / train_stats['std']\n",
    "normed_train_data = norm(train_dataset)\n",
    "normed_test_data = norm(test_dataset)"
   ]
  },
  {
   "cell_type": "markdown",
   "metadata": {},
   "source": [
    "## Building the model\n",
    "Building a Sequential model with two dense connectred hidden layers, and an output layer that holds a single, continous value. Created the build_moel function because we'll create a second model later on for optimization\n"
   ]
  },
  {
   "cell_type": "code",
   "execution_count": 11,
   "metadata": {},
   "outputs": [],
   "source": [
    "def build_model():\n",
    "  model = keras.Sequential([\n",
    "    layers.Dense(64, activation='relu', input_shape=[len(train_dataset.keys())]),\n",
    "    layers.Dense(64, activation='relu'),\n",
    "    layers.Dense(1)\n",
    "  ])\n",
    "\n",
    "  optimizer = tf.keras.optimizers.RMSprop(0.001)\n",
    "\n",
    "  model.compile(loss='mse',\n",
    "                optimizer=optimizer,\n",
    "                metrics=['mae', 'mse'])\n",
    "  return model"
   ]
  },
  {
   "cell_type": "code",
   "execution_count": 12,
   "metadata": {},
   "outputs": [
    {
     "name": "stdout",
     "output_type": "stream",
     "text": [
      "Model: \"sequential\"\n",
      "_________________________________________________________________\n",
      "Layer (type)                 Output Shape              Param #   \n",
      "=================================================================\n",
      "dense (Dense)                (None, 64)                128       \n",
      "_________________________________________________________________\n",
      "dense_1 (Dense)              (None, 64)                4160      \n",
      "_________________________________________________________________\n",
      "dense_2 (Dense)              (None, 1)                 65        \n",
      "=================================================================\n",
      "Total params: 4,353\n",
      "Trainable params: 4,353\n",
      "Non-trainable params: 0\n",
      "_________________________________________________________________\n"
     ]
    }
   ],
   "source": [
    "model = build_model()\n",
    "model.summary()"
   ]
  },
  {
   "cell_type": "markdown",
   "metadata": {},
   "source": [
    "## Training the model for 2000 epochs, and record the training and validation accuracies in the history object"
   ]
  },
  {
   "cell_type": "code",
   "execution_count": 31,
   "metadata": {},
   "outputs": [
    {
     "name": "stdout",
     "output_type": "stream",
     "text": [
      "\n",
      "Epoch: 0, loss:1141221.4988,  mae:679.7467,  mse:1141221.5000,  val_loss:676829.4375,  val_mae:621.8241,  val_mse:676829.4375,  \n",
      "....................................................................................................\n",
      "Epoch: 100, loss:1126335.0295,  mae:621.0751,  mse:1126335.0000,  val_loss:665291.5625,  val_mae:558.2231,  val_mse:665291.5625,  \n",
      "....................................................................................................\n",
      "Epoch: 200, loss:1125568.9340,  mae:623.1954,  mse:1125568.8750,  val_loss:621787.8750,  val_mae:539.1982,  val_mse:621787.8750,  \n",
      "....................................................................................................\n",
      "Epoch: 300, loss:1119774.8154,  mae:615.1581,  mse:1119774.7500,  val_loss:645823.5625,  val_mae:545.6967,  val_mse:645823.5625,  \n",
      "....................................................................................................\n",
      "Epoch: 400, loss:1114179.6148,  mae:617.8765,  mse:1114179.6250,  val_loss:632400.8750,  val_mae:541.7628,  val_mse:632400.8750,  \n",
      "....................................................................................................\n",
      "Epoch: 500, loss:1116338.9422,  mae:618.2849,  mse:1116339.0000,  val_loss:636470.6875,  val_mae:548.4715,  val_mse:636470.6875,  \n",
      "....................................................................................................\n",
      "Epoch: 600, loss:1096816.9416,  mae:614.5825,  mse:1096816.8750,  val_loss:617524.4375,  val_mae:540.9315,  val_mse:617524.4375,  \n",
      "....................................................................................................\n",
      "Epoch: 700, loss:1086313.2783,  mae:610.9224,  mse:1086313.2500,  val_loss:600113.8750,  val_mae:537.8033,  val_mse:600113.8750,  \n",
      "....................................................................................................\n",
      "Epoch: 800, loss:1069607.9658,  mae:611.7429,  mse:1069608.0000,  val_loss:587989.0625,  val_mae:539.8394,  val_mse:587989.0625,  \n",
      "....................................................................................................\n",
      "Epoch: 900, loss:1046710.7406,  mae:600.9898,  mse:1046710.6875,  val_loss:568247.9375,  val_mae:532.7725,  val_mse:568247.9375,  \n",
      "....................................................................................................\n",
      "Epoch: 1000, loss:1005376.4670,  mae:584.5748,  mse:1005376.4375,  val_loss:544830.2500,  val_mae:520.6285,  val_mse:544830.2500,  \n",
      "....................................................................................................\n",
      "Epoch: 1100, loss:961448.7901,  mae:561.8759,  mse:961448.7500,  val_loss:503639.1875,  val_mae:497.2462,  val_mse:503639.1875,  \n",
      "....................................................................................................\n",
      "Epoch: 1200, loss:881428.4269,  mae:514.0333,  mse:881428.4375,  val_loss:436633.0938,  val_mae:444.5908,  val_mse:436633.0938,  \n",
      "....................................................................................................\n",
      "Epoch: 1300, loss:789875.3691,  mae:454.5699,  mse:789875.3750,  val_loss:355180.6875,  val_mae:366.4519,  val_mse:355180.6875,  \n",
      "....................................................................................................\n",
      "Epoch: 1400, loss:701571.7807,  mae:404.1722,  mse:701571.7500,  val_loss:272429.4062,  val_mae:300.4091,  val_mse:272429.4062,  \n",
      "....................................................................................................\n",
      "Epoch: 1500, loss:613449.8048,  mae:362.2204,  mse:613449.8125,  val_loss:222868.4219,  val_mae:266.4673,  val_mse:222868.4219,  \n",
      "....................................................................................................\n",
      "Epoch: 1600, loss:525580.3924,  mae:322.9457,  mse:525580.3750,  val_loss:158350.8906,  val_mae:218.3093,  val_mse:158350.8906,  \n",
      "....................................................................................................\n",
      "Epoch: 1700, loss:445924.1238,  mae:291.3133,  mse:445924.1250,  val_loss:104685.7578,  val_mae:189.1543,  val_mse:104685.7578,  \n",
      "....................................................................................................\n",
      "Epoch: 1800, loss:379267.3278,  mae:265.5574,  mse:379267.3125,  val_loss:63432.4688,  val_mae:156.4321,  val_mse:63432.4688,  \n",
      "....................................................................................................\n",
      "Epoch: 1900, loss:311014.3025,  mae:234.8759,  mse:311014.3125,  val_loss:42902.9961,  val_mae:129.7386,  val_mse:42902.9961,  \n",
      "...................................................................................................."
     ]
    }
   ],
   "source": [
    "EPOCHS = 2000\n",
    "history = model.fit(\n",
    "  normed_train_data, train_labels,\n",
    "  epochs=EPOCHS, validation_split = 0.2, verbose=0,\n",
    "  callbacks=[tfdocs.modeling.EpochDots()])\n",
    "\n"
   ]
  },
  {
   "cell_type": "code",
   "execution_count": 32,
   "metadata": {},
   "outputs": [
    {
     "data": {
      "text/plain": [
       "Text(0, 0.5, 'MAE [Total Count Confirmed]')"
      ]
     },
     "execution_count": 32,
     "metadata": {},
     "output_type": "execute_result"
    },
    {
     "data": {
      "image/png": "[encoded data removed]",
      "text/plain": [
       "<Figure size 432x288 with 1 Axes>"
      ]
     },
     "metadata": {
      "needs_background": "light"
     },
     "output_type": "display_data"
    }
   ],
   "source": [
    "plotter = tfdocs.plots.HistoryPlotter(smoothing_std=2)\n",
    "\n",
    "plotter.plot({'Basic': history}, metric = \"mae\")\n",
    "plt.ylim([0, 1500])\n",
    "plt.ylabel('MAE [Total Count Confirmed]')"
   ]
  },
  {
   "cell_type": "code",
   "execution_count": 41,
   "metadata": {},
   "outputs": [
    {
     "data": {
      "text/plain": [
       "Text(0, 0.5, 'MAE [Total Count Confirmed]')"
      ]
     },
     "execution_count": 41,
     "metadata": {},
     "output_type": "execute_result"
    },
    {
     "data": {
      "image/png": "[encoded data removed]",
      "text/plain": [
       "<Figure size 432x288 with 1 Axes>"
      ]
     },
     "metadata": {
      "needs_background": "light"
     },
     "output_type": "display_data"
    }
   ],
   "source": [
    "plotter.plot({'Basic': history}, metric = \"mse\")\n",
    "plt.ylim([0, 2020000])\n",
    "plt.ylabel('MAE [Total Count Confirmed]')"
   ]
  },
  {
   "cell_type": "markdown",
   "metadata": {},
   "source": [
    "## We can retrain the model to automatically stop training when the validation scores do not improve."
   ]
  },
  {
   "cell_type": "code",
   "execution_count": 42,
   "metadata": {},
   "outputs": [
    {
     "name": "stdout",
     "output_type": "stream",
     "text": [
      "\n",
      "Epoch: 0, loss:50037530.6415,  mae:3246.5813,  mse:50037528.0000,  val_loss:86360240.0000,  val_mae:4215.2642,  val_mse:86360240.0000,  \n",
      "....................................................................................................\n",
      "Epoch: 100, loss:49627787.3962,  mae:3232.5867,  mse:49627788.0000,  val_loss:85640768.0000,  val_mae:4197.3672,  val_mse:85640768.0000,  \n",
      "....................................................................................................\n",
      "Epoch: 200, loss:47928149.4340,  mae:3201.7170,  mse:47928152.0000,  val_loss:82763320.0000,  val_mae:4155.2993,  val_mse:82763320.0000,  \n",
      "....................................................................................................\n",
      "Epoch: 300, loss:43900647.5849,  mae:3134.6409,  mse:43900648.0000,  val_loss:75882792.0000,  val_mae:4056.3750,  val_mse:75882792.0000,  \n",
      "....................................................................................................\n",
      "Epoch: 400, loss:37152108.3774,  mae:3030.8967,  mse:37152108.0000,  val_loss:64150668.0000,  val_mae:3923.5698,  val_mse:64150668.0000,  \n",
      "....................................................................................................\n",
      "Epoch: 500, loss:28009083.3585,  mae:2909.8567,  mse:28009084.0000,  val_loss:48083072.0000,  val_mae:3719.3137,  val_mse:48083072.0000,  \n",
      "....................................................................................................\n",
      "Epoch: 600, loss:18005141.3585,  mae:2756.5740,  mse:18005142.0000,  val_loss:30004996.0000,  val_mae:3471.8599,  val_mse:30004996.0000,  \n",
      "....................................................................................................\n",
      "Epoch: 700, loss:9509566.1698,  mae:2453.5005,  mse:9509566.0000,  val_loss:14175657.0000,  val_mae:2930.4478,  val_mse:14175657.0000,  \n",
      "....................................................................................................\n",
      "Epoch: 800, loss:3382023.6981,  mae:1620.4469,  mse:3382023.7500,  val_loss:3518118.2500,  val_mae:1751.7988,  val_mse:3518118.2500,  \n",
      "....................................................................................................\n",
      "Epoch: 900, loss:1219444.0000,  mae:817.9575,  mse:1219444.0000,  val_loss:710397.3125,  val_mae:723.9415,  val_mse:710397.3125,  \n",
      "......................................................................"
     ]
    }
   ],
   "source": [
    "model = build_model()\n",
    "# The patience parameter is the amount of epochs to check for improvement\n",
    "early_stop = keras.callbacks.EarlyStopping(monitor='val_loss', patience=10)\n",
    "early_history = model.fit(normed_train_data, train_labels,\n",
    "                    epochs=EPOCHS, validation_split = 0.2, verbose=0,\n",
    "                    callbacks=[early_stop, tfdocs.modeling.EpochDots()])"
   ]
  },
  {
   "cell_type": "code",
   "execution_count": 43,
   "metadata": {
    "scrolled": true
   },
   "outputs": [
    {
     "data": {
      "text/plain": [
       "Text(0, 0.5, 'MAE [Total Count Confirmed]')"
      ]
     },
     "execution_count": 43,
     "metadata": {},
     "output_type": "execute_result"
    },
    {
     "data": {
      "image/png": "[encoded data removed]",
      "text/plain": [
       "<Figure size 432x288 with 1 Axes>"
      ]
     },
     "metadata": {
      "needs_background": "light"
     },
     "output_type": "display_data"
    }
   ],
   "source": [
    "plotter.plot({'Early Stopping': early_history}, metric = \"mae\")\n",
    "plt.ylim([0, 10000])\n",
    "plt.ylabel('MAE [Total Count Confirmed]')"
   ]
  },
  {
   "cell_type": "markdown",
   "metadata": {},
   "source": [
    "## This tells how much we can expect the model to predict when we use it in the real worldd. This model generalizes by using the test set, which we didn't use when training the model"
   ]
  },
  {
   "cell_type": "code",
   "execution_count": 44,
   "metadata": {},
   "outputs": [
    {
     "name": "stdout",
     "output_type": "stream",
     "text": [
      "17/17 - 0s - loss: 446825.2500 - mae: 516.8166 - mse: 446825.2500\n",
      "Testing set Mean Abs Error: 516.82 Total Count Confirmed\n"
     ]
    }
   ],
   "source": [
    "loss, mae, mse = model.evaluate(normed_test_data, test_labels, verbose=2)\n",
    "print(\"Testing set Mean Abs Error: {:5.2f} Total Count Confirmed\".format(mae))"
   ]
  },
  {
   "cell_type": "markdown",
   "metadata": {},
   "source": [
    "## Making the predictions using the data in the testing set"
   ]
  },
  {
   "cell_type": "code",
   "execution_count": 45,
   "metadata": {},
   "outputs": [
    {
     "data": {
      "image/png": "[encoded data removed]",
      "text/plain": [
       "<Figure size 432x288 with 1 Axes>"
      ]
     },
     "metadata": {
      "needs_background": "light"
     },
     "output_type": "display_data"
    }
   ],
   "source": [
    "test_predictions = model.predict(normed_test_data).flatten()\n",
    "a = plt.axes(aspect='equal')\n",
    "plt.scatter(test_labels, test_predictions)\n",
    "plt.xlabel('True Values [Total Count Confirmed]')\n",
    "plt.ylabel('Predictions [Total Count Confirmed]')\n",
    "lims = [0, 25000]\n",
    "plt.xlim(lims)\n",
    "plt.ylim(lims)\n",
    "_ = plt.plot(lims, lims)"
   ]
  },
  {
   "cell_type": "code",
   "execution_count": null,
   "metadata": {},
   "outputs": [],
   "source": []
  },
  {
   "cell_type": "code",
   "execution_count": null,
   "metadata": {},
   "outputs": [],
   "source": []
  },
  {
   "cell_type": "code",
   "execution_count": null,
   "metadata": {},
   "outputs": [],
   "source": []
  },
  {
   "cell_type": "code",
   "execution_count": null,
   "metadata": {},
   "outputs": [],
   "source": []
  },
  {
   "cell_type": "code",
   "execution_count": null,
   "metadata": {},
   "outputs": [],
   "source": []
  },
  {
   "cell_type": "code",
   "execution_count": null,
   "metadata": {},
   "outputs": [],
   "source": []
  },
  {
   "cell_type": "code",
   "execution_count": null,
   "metadata": {},
   "outputs": [],
   "source": []
  },
  {
   "cell_type": "code",
   "execution_count": null,
   "metadata": {},
   "outputs": [],
   "source": []
  }
 ],
 "metadata": {
  "kernelspec": {
   "display_name": "gputest",
   "language": "python",
   "name": "gputest"
  },
  "language_info": {
   "codemirror_mode": {
    "name": "ipython",
    "version": 3
   },
   "file_extension": ".py",
   "mimetype": "text/x-python",
   "name": "python",
   "nbconvert_exporter": "python",
   "pygments_lexer": "ipython3",
   "version": "3.7.7"
  }
 },
 "nbformat": 4,
 "nbformat_minor": 4
}
